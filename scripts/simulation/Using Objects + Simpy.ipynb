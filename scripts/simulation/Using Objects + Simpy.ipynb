{
 "cells": [
  {
   "cell_type": "markdown",
   "id": "7e7c79a4",
   "metadata": {},
   "source": [
    "### Simulation - Object Approach\n",
    "\n",
    "- Background: I ran into two main problems when I tried to implement the simulation using just pandas (or when I tried to imitiate the code strucutre from the homework - ex: Patient Scheduling Problem)\n",
    "    - 1) Patient Scheduling Problem was a 1-server model - whereas our initial problem statement has 6 unique terminals with different capacity (meaning 6 different servers) \n",
    "        - however can simplify this by assuming just one server, with infinite capacity\n",
    "    - 2) Patient Scheduling Problem also didn't differentiate between the patient attributes. \n",
    "        - in the traffic problem however, each ship has its own 'periodicity' which should reset once each vessel arrives at the port.  \n",
    "        - only when the periodicity is validated, can the ships begin to arrive at the port. \n",
    "        - so each ship is different from each other \n",
    "        - (Ships still arrive at a Poisson rate INTO the ports, but ships also follow their own distribution)\n",
    "        \n",
    "        \n",
    "- Main Reason behind using objects: so that we can keep track of each ship + each terminal with its different attributes \n",
    "    - necessary attributes - ship: \n",
    "        - mean arrival time (round trip) \n",
    "        - cargo\n",
    "        - length (only necessary if we are to constrain the terminals)\n",
    "    - necesary attributes - terminal (if we are to implement) \n",
    "        - number of cranes\n",
    "        - berth length \n",
    "        \n",
    "\n",
    "\n",
    "References: [Using Simpy for simulation](https://medium.com/swlh/simulating-a-parallel-queueing-system-with-simpy-6b7fcb6b1ca1)\n",
    "\n",
    "[2 server Queue Implementation - BhavyaJain](https://towardsdatascience.com/simulating-a-queuing-system-in-python-8a7d1151d485)\n",
    "- ^[Github](https://github.com/BhavyaJain08/Bank-Simulation/blob/master/Bank_Simulation_Project.py)\n",
    "\n",
    "- [Other Simpy Resources](https://pythonhosted.org/SimPy/Tutorials/TheBank.html#several-counters-with-individual-queues)"
   ]
  },
  {
   "cell_type": "code",
   "execution_count": 3,
   "id": "b1e2e255",
   "metadata": {},
   "outputs": [],
   "source": [
    "import numpy as np\n",
    "import pandas as pd"
   ]
  },
  {
   "cell_type": "markdown",
   "id": "28663560",
   "metadata": {},
   "source": [
    "### Vessel Information dataframe"
   ]
  },
  {
   "cell_type": "code",
   "execution_count": 8,
   "id": "016c390b",
   "metadata": {},
   "outputs": [],
   "source": [
    "def vessel_length(max_teu):\n",
    "    ## SuperPX crane\n",
    "    if max_teu > 14400:   \n",
    "        v_length = 1300\n",
    "        v_type = 2\n",
    "    ## SuperPX crane\n",
    "    elif max_teu > 10000:    \n",
    "        v_length = 1200 \n",
    "        v_type = 2\n",
    "    ## Post PX crane\n",
    "    elif max_teu > 5000:\n",
    "        v_length = 1100\n",
    "        v_type = 1\n",
    "    ## Panamax Crane\n",
    "    else: \n",
    "        v_length = 965\n",
    "        v_type = 0\n",
    "    return v_length, v_type"
   ]
  },
  {
   "cell_type": "markdown",
   "id": "893157fe",
   "metadata": {},
   "source": [
    "#### Vessel and Cargo Dataset"
   ]
  },
  {
   "cell_type": "code",
   "execution_count": 9,
   "id": "0e9ab981",
   "metadata": {},
   "outputs": [],
   "source": [
    "vessels = pd.read_csv(\"longbeach.csv\")\n",
    "\n",
    "\n",
    "## Apply the vessel type & length above and unpack the tuple to append to original dataframe\n",
    "## Reference: https://stackoverflow.com/questions/56775952/unpacking-a-tuple-on-multiple-columns-of-a-dataframe-from-series-apply\n",
    "vessels[['length','v_type']] = vessels['teu'].apply(lambda x: vessel_length(x)).tolist()\n",
    "## Exclude vessles without any stops (did not cross the pacific)\n",
    "vessels = vessels[vessels['stops']!=0].reset_index(drop=True)\n",
    "vessels['mean_hr'] = vessels['mean'] * 24\n",
    "vessels['stddev_hr'] = vessels['stddev'] * 24\n",
    "\n",
    "## decision variable\n",
    "## SEt 0 if able to be picked.....1 if not (still en route to port)\n",
    "vessels['cycle_complete'] = 1\n"
   ]
  },
  {
   "cell_type": "markdown",
   "id": "a876bdd9",
   "metadata": {},
   "source": [
    "#### Terminal Capacity Dataset"
   ]
  },
  {
   "cell_type": "code",
   "execution_count": 10,
   "id": "506fd839",
   "metadata": {},
   "outputs": [],
   "source": [
    "## Will only look at Port of Long Beach + Terminals with Rail System\n",
    "terminal_capacity = pd.read_csv(\"terminalcapacity.csv\")\n",
    "lb_port = terminal_capacity[(terminal_capacity['Port']==\"Long Beach\") & (terminal_capacity['Rail System']==1)]\n",
    "# lb_port"
   ]
  },
  {
   "cell_type": "code",
   "execution_count": 11,
   "id": "e56cd8a7",
   "metadata": {},
   "outputs": [],
   "source": [
    "orig = lb_port[['Name','Port','Berth','Yard','Rail System']]\n",
    "\n",
    "## Take the floor of the multiplied output\n",
    "## only reduce the crane #s + the container capacity \n",
    "reduced = np.floor(lb_port[['Crane_Panamax','Crane_PostPX','Crane_SuperPX','ContainerCap']].multiply(0.7, axis=1))\n",
    "reduced_lb = pd.concat([orig, reduced], axis=1) \n",
    "reduced_lb['TotalCrane'] = reduced_lb[['Crane_Panamax','Crane_PostPX','Crane_SuperPX']].sum(axis=1)\n",
    "reduced_lb['Avail_Berth'] = reduced_lb['Berth']   ## Necessary for later calculations\n",
    "reduced_lb = reduced_lb.sort_values(by=['Name']).reset_index(drop=True)"
   ]
  },
  {
   "cell_type": "markdown",
   "id": "6d3d6a12",
   "metadata": {},
   "source": [
    "### Class Implmentation"
   ]
  },
  {
   "cell_type": "code",
   "execution_count": 4,
   "id": "8b23993b",
   "metadata": {},
   "outputs": [],
   "source": [
    "class Vessel:\n",
    "    def __init__(self, period_mean, length, cargo, en_route): \n",
    "        self.period_mean = period_mean      # mean #of days to get to port \n",
    "        self.length = length                # vessel length\n",
    "        self.cargo = cargo                  # Cargo Load   \n",
    "        self.en_route = 0                   # 0 if still en route / 1 if able to be selected (initialize to 1)\n",
    "\n",
    "    def __str__(self):\n",
    "        return \"This vessel comes to port every {} days and has a length of {} with current cargo of\".format(self.period_mean, self.length)"
   ]
  },
  {
   "cell_type": "code",
   "execution_count": 6,
   "id": "b4fd2078",
   "metadata": {},
   "outputs": [],
   "source": [
    "class Terminal:\n",
    "    def __init(self, berth_length, crane, at_capacity):\n",
    "        self.berth_length = berth_length   # Length of the Berth at Terminal\n",
    "        self.crane = crane                 # Number of Cranes at\n",
    "        self.at_capacity = at_capacity     # 0 if berth does not have room left / 1 if it does (initialize to 1)\n",
    "        \n",
    "    def __str__(self):\n",
    "        return \"This vessel comes to port every {} days and has a length of {} with current cargo of\".format(self.period_mean, self.length)\n",
    "        "
   ]
  },
  {
   "cell_type": "code",
   "execution_count": 30,
   "id": "57bb7c4e",
   "metadata": {},
   "outputs": [],
   "source": [
    "# for i in range(len(vessels)):\n",
    "# #     vessel_i = Vessel(vessels.iloc[0]['mean'], vessels.iloc[0]['length'], 1)\n",
    "#     holder = {i: Vessel(i=i, period_mean=vessels.iloc[i]['mean'], length=vessels.iloc[i]['length'], en_route=1)}\n",
    "    "
   ]
  },
  {
   "cell_type": "code",
   "execution_count": 14,
   "id": "4c305166",
   "metadata": {},
   "outputs": [],
   "source": [
    "vessel_0 = Vessel(vessels.iloc[0]['mean'], vessels.iloc[0]['length'], vessels.iloc[0]['longbeach_cargo'], en_route = 1)\n",
    "vessel_1 = Vessel(vessels.iloc[1]['mean'], vessels.iloc[1]['length'], vessels.iloc[1]['longbeach_cargo'], en_route = 1)\n",
    "vessel_2 = Vessel(vessels.iloc[2]['mean'], vessels.iloc[2]['length'], vessels.iloc[2]['longbeach_cargo'], en_route = 1)\n",
    "vessel_3 = Vessel(vessels.iloc[3]['mean'], vessels.iloc[3]['length'], vessels.iloc[3]['longbeach_cargo'], en_route = 1)\n",
    "vessel_4 = Vessel(vessels.iloc[4]['mean'], vessels.iloc[4]['length'], vessels.iloc[4]['longbeach_cargo'], en_route = 1)\n",
    "vessel_5 = Vessel(vessels.iloc[5]['mean'], vessels.iloc[5]['length'], vessels.iloc[5]['longbeach_cargo'], en_route = 1)\n",
    "vessel_6 = Vessel(vessels.iloc[6]['mean'], vessels.iloc[6]['length'], vessels.iloc[6]['longbeach_cargo'], en_route = 1)\n",
    "vessel_7 = Vessel(vessels.iloc[7]['mean'], vessels.iloc[7]['length'], vessels.iloc[7]['longbeach_cargo'], en_route = 1)\n",
    "vessel_8 = Vessel(vessels.iloc[8]['mean'], vessels.iloc[8]['length'], vessels.iloc[8]['longbeach_cargo'], en_route = 1)\n",
    "vessel_9 = Vessel(vessels.iloc[9]['mean'], vessels.iloc[9]['length'], vessels.iloc[9]['longbeach_cargo'], en_route = 1)\n",
    "vessel_10 = Vessel(vessels.iloc[10]['mean'], vessels.iloc[10]['length'], vessels.iloc[10]['longbeach_cargo'], en_route = 1)\n",
    "vessel_11 = Vessel(vessels.iloc[11]['mean'], vessels.iloc[11]['length'], vessels.iloc[11]['longbeach_cargo'], en_route = 1)\n",
    "vessel_12 = Vessel(vessels.iloc[12]['mean'], vessels.iloc[12]['length'], vessels.iloc[12]['longbeach_cargo'], en_route = 1)\n",
    "vessel_13 = Vessel(vessels.iloc[13]['mean'], vessels.iloc[13]['length'], vessels.iloc[13]['longbeach_cargo'], en_route = 1)\n",
    "vessel_14 = Vessel(vessels.iloc[14]['mean'], vessels.iloc[14]['length'], vessels.iloc[14]['longbeach_cargo'], en_route = 1)\n",
    "vessel_15 = Vessel(vessels.iloc[15]['mean'], vessels.iloc[15]['length'], vessels.iloc[15]['longbeach_cargo'], en_route = 1)\n",
    "vessel_16 = Vessel(vessels.iloc[16]['mean'], vessels.iloc[16]['length'], vessels.iloc[16]['longbeach_cargo'], en_route = 1)\n",
    "vessel_17 = Vessel(vessels.iloc[17]['mean'], vessels.iloc[17]['length'], vessels.iloc[17]['longbeach_cargo'], en_route = 1)\n",
    "vessel_18 = Vessel(vessels.iloc[18]['mean'], vessels.iloc[18]['length'], vessels.iloc[18]['longbeach_cargo'], en_route = 1)\n",
    "vessel_19 = Vessel(vessels.iloc[19]['mean'], vessels.iloc[19]['length'], vessels.iloc[19]['longbeach_cargo'], en_route = 1)\n",
    "vessel_20 = Vessel(vessels.iloc[20]['mean'], vessels.iloc[20]['length'], vessels.iloc[20]['longbeach_cargo'], en_route = 1)\n",
    "vessel_21 = Vessel(vessels.iloc[21]['mean'], vessels.iloc[21]['length'], vessels.iloc[21]['longbeach_cargo'], en_route = 1)\n",
    "vessel_22 = Vessel(vessels.iloc[22]['mean'], vessels.iloc[22]['length'], vessels.iloc[22]['longbeach_cargo'], en_route = 1)\n",
    "vessel_23 = Vessel(vessels.iloc[23]['mean'], vessels.iloc[23]['length'], vessels.iloc[23]['longbeach_cargo'], en_route = 1)\n",
    "vessel_24 = Vessel(vessels.iloc[24]['mean'], vessels.iloc[24]['length'], vessels.iloc[24]['longbeach_cargo'], en_route = 1)\n",
    "vessel_25 = Vessel(vessels.iloc[25]['mean'], vessels.iloc[25]['length'], vessels.iloc[25]['longbeach_cargo'], en_route = 1)\n",
    "vessel_26 = Vessel(vessels.iloc[26]['mean'], vessels.iloc[26]['length'], vessels.iloc[26]['longbeach_cargo'], en_route = 1)"
   ]
  },
  {
   "cell_type": "code",
   "execution_count": null,
   "id": "8f06e54f",
   "metadata": {},
   "outputs": [],
   "source": []
  },
  {
   "cell_type": "code",
   "execution_count": 31,
   "id": "6ed16f8d",
   "metadata": {},
   "outputs": [],
   "source": [
    "\n",
    "## This code template is from https://towardsdatascience.com/simulating-a-queuing-system-in-python-8a7d1151d485\n",
    "\n",
    "class Traffic_Simulation:\n",
    "    def __init__(self): \n",
    "        self.clock=0.0                      #simulation clock\n",
    "        self.num_arrivals=0                 #total number of arrivals\n",
    "        self.t_arrival=self.gen_int_arr()   #time of next arrival\n",
    "        self.t_departure1=float('inf')      #departure time from server 1\n",
    "        self.t_departure2=float('inf')      #departure time from server 2\n",
    "        self.dep_sum1=0                     #Sum of service times by terminal 1\n",
    "        self.dep_sum2=0                     #Sum of service times by terminal 2\n",
    "        self.state_T1=0                     #current state of server1 (binary)\n",
    "        self.state_T2=0                     #current state of server2 (binary)\n",
    "        self.total_wait_time=0.0            #total wait time\n",
    "        self.num_in_q=0                     #current number in queue\n",
    "        self.number_in_queue=0              #vesels who had to wait in line(counter)\n",
    "        self.num_in_system=0                #current number of vessels in system\n",
    "        self.num_of_departures1=0           #number of customers served by terminal 1  \n",
    "        self.num_of_departures2=0           #number of customers served by terminal 2 \n",
    "        self.lost_customers=0               #customers who left without service\n",
    "        \n",
    "    def time_adv(self):                                                       #timing routine\n",
    "        t_next_event=min(self.t_arrival, self.t_departure1, self.t_departure2)  #determine time of next event\n",
    "        self.total_wait_time += (self.num_in_q * (t_next_event - self.clock))\n",
    "        self.clock=t_next_event\n",
    "                \n",
    "        if self.t_arrival < self.t_departure1 and self.t_arrival < self.t_departure2:\n",
    "            self.arrival()\n",
    "        elif self.t_departure1 < self.t_arrival and self.t_departure1 < self.t_departure2:\n",
    "            self.teller1()\n",
    "        else:\n",
    "            self.teller2()\n",
    "            \n",
    "    \n",
    "    def arrival(self):              \n",
    "        self.num_arrivals += 1\n",
    "        self.num_in_system += 1\n",
    "\n",
    "        if self.num_in_q == 0:                              #schedule next departure or arrival depending on state of servers\n",
    "            if self.state_T1==1 and self.state_T2==1:\n",
    "                self.num_in_q += 1\n",
    "                self.number_in_queue+=1\n",
    "                self.t_arrival=self.clock+self.gen_int_arr()\n",
    "                \n",
    "                \n",
    "            elif self.state_T1==0 and self.state_T2==0:\n",
    "                \n",
    "                if np.random.choice([0,1])==1:\n",
    "                    self.state_T1=1\n",
    "                    self.dep1= self.gen_service_time_teller1()\n",
    "                    self.dep_sum1 += self.dep1\n",
    "                    self.t_departure1=self.clock + self.dep1\n",
    "                    self.t_arrival=self.clock+self.gen_int_arr()\n",
    "\n",
    "                else:\n",
    "                    self.state_T2=1\n",
    "                    self.dep2= self.gen_service_time_teller2()\n",
    "                    self.dep_sum2 += self.dep2\n",
    "                    self.t_departure2=self.clock + self.dep2\n",
    "                    self.t_arrival=self.clock+self.gen_int_arr()\n",
    "\n",
    "                    \n",
    "            elif self.state_T1==0 and self.state_T2 ==1:    #if server 2 is busy customer goes to server 1\n",
    "                self.dep1= self.gen_service_time_teller1()\n",
    "                self.dep_sum1 += self.dep1\n",
    "                self.t_departure1=self.clock + self.dep1\n",
    "                self.t_arrival=self.clock+self.gen_int_arr()\n",
    "                self.state_T1=1\n",
    "            else:                                           #otherwise customer goes to server 2\n",
    "                self.dep2= self.gen_service_time_teller2()\n",
    "                self.dep_sum2 += self.dep2\n",
    "                self.t_departure2=self.clock + self.dep2\n",
    "                self.t_arrival=self.clock+self.gen_int_arr()\n",
    "                self.state_T2=1\n",
    "        \n",
    "        elif self.num_in_q < 100 and self.num_in_q >= 1:\n",
    "            self.num_in_q+=1\n",
    "            self.number_in_queue+=1                             #if queue length is less than 4 generate next arrival and make customer join queue\n",
    "            self.t_arrival=self.clock + self.gen_int_arr()\n",
    "\n",
    "# Probability of losing customers due to long wait times \n",
    "        elif self.num_in_q == 4:                             #if queue length is 4 equal prob to leave or stay\n",
    "            if np.random.choice([0,1])==0: \n",
    "                self.num_in_q+=1 \n",
    "                self.number_in_queue+=1                 \n",
    "                self.t_arrival=self.clock + self.gen_int_arr()\n",
    "            else:\n",
    "                self.lost_customers+=1\n",
    "                \n",
    "                \n",
    "        elif self.num_in_q >= 5:                            #if queue length is more than 5 60% chance of leaving\n",
    "            if np.random.choice([0,1],p=[0.4,0.6])==0:\n",
    "                self.t_arrival=self.clock+self.gen_int_arr()\n",
    "                self.num_in_q+=1 \n",
    "                self.number_in_queue+=1 \n",
    "            else:\n",
    "                self.lost_customers+=1\n",
    "                \n",
    "        \n",
    "    \n",
    "    def teller1(self):              #departure from server 2\n",
    "        self.num_of_departures1 += 1\n",
    "        self.num_in_system -= 1 \n",
    "        if self.num_in_q>0:\n",
    "            self.dep1= self.gen_service_time_teller1()\n",
    "            self.dep_sum1 += self.dep1\n",
    "            self.t_departure1=self.clock + self.dep1\n",
    "            self.num_in_q-=1\n",
    "        else:\n",
    "            self.t_departure1=float('inf') \n",
    "            self.state_T1=0                  \n",
    "    \n",
    "    def teller2(self):              #departure from server 1\n",
    "        self.num_of_departures2 += 1\n",
    "        self.num_in_system -= 1\n",
    "        if self.num_in_q>0:\n",
    "            self.dep2= self.gen_service_time_teller2()\n",
    "            self.dep_sum2 += self.dep2\n",
    "            self.t_departure2=self.clock + self.dep2\n",
    "            self.num_in_q-=1\n",
    "        else:\n",
    "            self.t_departure2=float('inf')\n",
    "            self.state_T2=0\n",
    "            \n",
    "    \n",
    "    def gen_int_arr(self):                                             #function to generate arrival times using inverse trnasform\n",
    "        return (-np.log(1-(np.random.uniform(low=0.0,high=1.0))) * 3)\n",
    "    \n",
    "    def gen_service_time_teller1(self):                                #function to generate service time for teller 1 using inverse trnasform\n",
    "        return (-np.log(1-(np.random.uniform(low=0.0,high=1.0))) * 1.2)\n",
    "    \n",
    "    def gen_service_time_teller2(self):                                #function to generate service time for teller 1 using inverse trnasform\n",
    "        return (-np.log(1-(np.random.uniform(low=0.0,high=1.0))) * 1.5)\n",
    "\n",
    "s=Traffic_Simulation()\n",
    "# df=pd.DataFrame(columns=['Average interarrival time','Average service time teller1','Average service time teller 2','Utilization teller 1','Utilization teller 2','People who had to wait in line','Total average wait time','Lost Customers'])\n",
    "df=pd.DataFrame(columns=['Average interarrival time','Average service time teller1','Average service time teller 2','Utilization teller 1','Utilization teller 2','People who had to wait in line','Total average wait time','Lost Customers'])\n",
    "\n",
    "\n",
    "for i in range(100):\n",
    "    np.random.seed(i)\n",
    "    s.__init__()\n",
    "    while s.clock <= 240 :\n",
    "        s.time_adv() \n",
    "    a=pd.Series([s.clock/s.num_arrivals,s.dep_sum1/s.num_of_departures1,s.dep_sum2/s.num_of_departures2,s.dep_sum1/s.clock,s.dep_sum2/s.clock,s.number_in_queue,s.total_wait_time,s.lost_customers],index=df.columns)\n",
    "#         a=pd.Series([s.clock/s.num_arrivals, s.dep_sum1/s.num_of_departures1, s.dep_sum2/s.num_of_departures2, s.dep_sum1/s.clock, s.dep_sum2/s.clock, s.number_in_queue, s.total_wait_time],index=df.columns)\n",
    "    df=df.append(a,ignore_index=True)   \n",
    "    \n",
    "df.to_excel('results.xlsx')  "
   ]
  },
  {
   "cell_type": "code",
   "execution_count": null,
   "id": "418dc72a",
   "metadata": {},
   "outputs": [],
   "source": []
  },
  {
   "cell_type": "code",
   "execution_count": null,
   "id": "c8fedcda",
   "metadata": {},
   "outputs": [],
   "source": []
  },
  {
   "cell_type": "markdown",
   "id": "2af676c3",
   "metadata": {},
   "source": [
    "### Practicing with Simpy"
   ]
  },
  {
   "cell_type": "code",
   "execution_count": 21,
   "id": "a9628983",
   "metadata": {},
   "outputs": [],
   "source": [
    "import simpy"
   ]
  },
  {
   "cell_type": "code",
   "execution_count": 22,
   "id": "f61714ae",
   "metadata": {},
   "outputs": [],
   "source": [
    "def car(env):\n",
    "     while True:\n",
    "        print('Start parking at %d' % env.now)\n",
    "        parking_duration = 5\n",
    "        yield env.timeout(parking_duration)\n",
    "\n",
    "        print('Start driving at %d' % env.now)\n",
    "        trip_duration = 2\n",
    "        yield env.timeout(trip_duration)"
   ]
  },
  {
   "cell_type": "code",
   "execution_count": 23,
   "id": "3af8d574",
   "metadata": {},
   "outputs": [
    {
     "name": "stdout",
     "output_type": "stream",
     "text": [
      "Start parking at 0\n",
      "Start driving at 5\n",
      "Start parking at 7\n",
      "Start driving at 12\n",
      "Start parking at 14\n"
     ]
    }
   ],
   "source": [
    "env = simpy.Environment()\n",
    "env.process(car(env))\n",
    "\n",
    "env.run(until=15)"
   ]
  },
  {
   "cell_type": "code",
   "execution_count": null,
   "id": "b5dfaa12",
   "metadata": {},
   "outputs": [],
   "source": []
  },
  {
   "cell_type": "code",
   "execution_count": 24,
   "id": "8c1139b0",
   "metadata": {},
   "outputs": [],
   "source": [
    "class Car(object):\n",
    "    def __init__ (self, env):\n",
    "        self.env = env\n",
    "        self.action = env.process(self.run())\n",
    "        \n",
    "    def run(self):\n",
    "        while True:\n",
    "            print(\"Start parking and charging at %d\" % self.env.now)   ## current time (now)\n",
    "            charge_duration = 5\n",
    "            try: \n",
    "                yield self.env.process(self.charge(charge_duration))   ## Note that charge function is given below\n",
    "            except simpy.Interrupt:\n",
    "                print(\"Was interrupted. Hope the battery is full\")\n",
    "            \n",
    "            print(\"Start driving at %d\" % self.env.now)\n",
    "            trip_duration = 2\n",
    "            yield self.env.timeout(trip_duration)\n",
    "    \n",
    "    def charge(self, duration):\n",
    "        yield self.env.timeout(duration)   # \"Timesout\" for a given duration\n",
    "        \n"
   ]
  },
  {
   "cell_type": "code",
   "execution_count": 25,
   "id": "7ec98bcc",
   "metadata": {},
   "outputs": [],
   "source": [
    "    \n",
    "def driver(env, car):\n",
    "    yield env.timeout(3)\n",
    "    car.action.interrupt()"
   ]
  },
  {
   "cell_type": "code",
   "execution_count": 26,
   "id": "bacb5198",
   "metadata": {},
   "outputs": [
    {
     "name": "stdout",
     "output_type": "stream",
     "text": [
      "Start parking and charging at 0\n",
      "Was interrupted. Hope the battery is full\n",
      "Start driving at 3\n",
      "Start parking and charging at 5\n",
      "Start driving at 10\n",
      "Start parking and charging at 12\n"
     ]
    }
   ],
   "source": [
    "env = simpy.Environment()\n",
    "car = Car(env)\n",
    "env.process(driver(env, car))\n",
    "\n",
    "env.run(until=15)"
   ]
  },
  {
   "cell_type": "code",
   "execution_count": 27,
   "id": "21ec5297",
   "metadata": {},
   "outputs": [],
   "source": [
    "def car(env, name, bcs, driving_time, charge_duration):\n",
    "    ## Driving to the BCS \n",
    "    yield env.timeout(driving_time)\n",
    "    \n",
    "    print(\"%s arriving at %d\" % (name, env.now))\n",
    "    with bcs.request() as req:\n",
    "        yield req\n",
    "        \n",
    "        ## Charge Battery\n",
    "        print(\"%s starting to charge at %s\" % (name, env.now))\n",
    "        yield env.timeout(charge_duration)\n",
    "        print(\"%s leaving the bcs at %s\" % (name, env.now))\n",
    "        "
   ]
  },
  {
   "cell_type": "code",
   "execution_count": 28,
   "id": "99aafdb8",
   "metadata": {},
   "outputs": [],
   "source": [
    "env = simpy.Environment()\n",
    "bcs = simpy.Resource(env, capacity = 3)\n",
    "for i in range(4):\n",
    "    env.process(car(env, 'Car %d' % i, bcs, i*2, 5))"
   ]
  },
  {
   "cell_type": "code",
   "execution_count": 29,
   "id": "4c387828",
   "metadata": {},
   "outputs": [
    {
     "name": "stdout",
     "output_type": "stream",
     "text": [
      "Car 0 arriving at 0\n",
      "Car 0 starting to charge at 0\n",
      "Car 1 arriving at 2\n",
      "Car 1 starting to charge at 2\n",
      "Car 2 arriving at 4\n",
      "Car 2 starting to charge at 4\n",
      "Car 0 leaving the bcs at 5\n",
      "Car 3 arriving at 6\n",
      "Car 3 starting to charge at 6\n",
      "Car 1 leaving the bcs at 7\n",
      "Car 2 leaving the bcs at 9\n",
      "Car 3 leaving the bcs at 11\n"
     ]
    }
   ],
   "source": [
    "env.run()"
   ]
  },
  {
   "cell_type": "code",
   "execution_count": null,
   "id": "5a34d92b",
   "metadata": {},
   "outputs": [],
   "source": []
  },
  {
   "cell_type": "code",
   "execution_count": null,
   "id": "7560bea8",
   "metadata": {},
   "outputs": [],
   "source": []
  },
  {
   "cell_type": "code",
   "execution_count": null,
   "id": "7375e6b2",
   "metadata": {},
   "outputs": [],
   "source": []
  }
 ],
 "metadata": {
  "kernelspec": {
   "display_name": "Python 3",
   "language": "python",
   "name": "python3"
  },
  "language_info": {
   "codemirror_mode": {
    "name": "ipython",
    "version": 3
   },
   "file_extension": ".py",
   "mimetype": "text/x-python",
   "name": "python",
   "nbconvert_exporter": "python",
   "pygments_lexer": "ipython3",
   "version": "3.8.8"
  }
 },
 "nbformat": 4,
 "nbformat_minor": 5
}
